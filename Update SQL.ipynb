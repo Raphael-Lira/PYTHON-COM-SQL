{
 "cells": [
  {
   "cell_type": "code",
   "execution_count": 1,
   "id": "aabd911a",
   "metadata": {},
   "outputs": [],
   "source": [
    "import pyodbc \n",
    "dados_conexao = ('Driver={SQLite3 ODBC Driver};Server=localhost;Database=chinook.db')\n",
    "conexao = pyodbc.connect(dados_conexao)\n",
    "cursor = conexao.cursor()"
   ]
  },
  {
   "cell_type": "code",
   "execution_count": 2,
   "id": "f1c29a8a",
   "metadata": {},
   "outputs": [],
   "source": [
    "cursor.execute('''\n",
    "UPDATE customers SET Email=\"raphaell@gmai.com\" WHERE Email=\"luisg@embraer.com.br\"\n",
    "''')\n",
    "cursor.commit()"
   ]
  },
  {
   "cell_type": "code",
   "execution_count": 3,
   "id": "e6d1d498",
   "metadata": {},
   "outputs": [],
   "source": [
    "cursor.close()\n",
    "conexao.close()"
   ]
  },
  {
   "cell_type": "code",
   "execution_count": null,
   "id": "85eea5f6",
   "metadata": {},
   "outputs": [],
   "source": []
  }
 ],
 "metadata": {
  "kernelspec": {
   "display_name": "Python 3",
   "language": "python",
   "name": "python3"
  },
  "language_info": {
   "codemirror_mode": {
    "name": "ipython",
    "version": 3
   },
   "file_extension": ".py",
   "mimetype": "text/x-python",
   "name": "python",
   "nbconvert_exporter": "python",
   "pygments_lexer": "ipython3",
   "version": "3.8.8"
  }
 },
 "nbformat": 4,
 "nbformat_minor": 5
}
